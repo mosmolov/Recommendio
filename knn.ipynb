{
 "cells": [
  {
   "cell_type": "code",
   "execution_count": 27,
   "metadata": {},
   "outputs": [],
   "source": [
    "from sklearn.model_selection import train_test_split\n",
    "from sklearn.preprocessing import StandardScaler\n",
    "from sklearn.metrics import classification_report, accuracy_score\n",
    "from sklearn.neighbors import NearestNeighbors\n",
    "import pandas as pd"
   ]
  },
  {
   "cell_type": "code",
   "execution_count": 28,
   "metadata": {},
   "outputs": [
    {
     "name": "stderr",
     "output_type": "stream",
     "text": [
      "/var/folders/cc/c2h4hf8x1rq2d8qclpl8dwdw0000gn/T/ipykernel_50101/2411600261.py:1: DtypeWarning: Columns (19) have mixed types. Specify dtype option on import or set low_memory=False.\n",
      "  data = pd.read_csv('genres_v2.csv')\n"
     ]
    }
   ],
   "source": [
    "data = pd.read_csv('genres_v2.csv')"
   ]
  },
  {
   "cell_type": "code",
   "execution_count": 29,
   "metadata": {},
   "outputs": [],
   "source": [
    "# Preprocessing the data\n",
    "# Assuming 'genre' as the target variable for classification\n",
    "X = data.select_dtypes(include=['float64', 'int64']).dropna()  # Selecting numerical features\n",
    "y = data.loc[X.index, 'genre']  # Corresponding genres"
   ]
  },
  {
   "cell_type": "code",
   "execution_count": 30,
   "metadata": {},
   "outputs": [],
   "source": [
    "# Splitting the dataset into training and testing sets\n",
    "X_train, X_test, y_train, y_test = train_test_split(X, y, test_size=0.3, random_state=42)"
   ]
  },
  {
   "cell_type": "code",
   "execution_count": 31,
   "metadata": {},
   "outputs": [],
   "source": [
    "# Standardizing the features\n",
    "scaler = StandardScaler()\n",
    "X_train_scaled = scaler.fit_transform(X_train)\n",
    "X_test_scaled = scaler.transform(X_test)"
   ]
  },
  {
   "cell_type": "code",
   "execution_count": 48,
   "metadata": {},
   "outputs": [],
   "source": [
    "# give predictions for input based on the model\n",
    "def get_recommendations(input):\n",
    "    # Fetching the index of the song that matches the title\n",
    "    input_index = data[data['song_name'] == input].index[0]\n",
    "    \n",
    "    # Calculating the distance and getting the 6 nearest neighbors\n",
    "    input_features = X.iloc[input_index]\n",
    "    input_features = input_features.values.reshape(1, -1)\n",
    "    nn = NearestNeighbors(n_neighbors = 6) # get 6 nearest neighbors\n",
    "    nn.fit(X)\n",
    "    distances, indices = nn.kneighbors(input_features)\n",
    "    nearest_neighbors = indices[0]\n",
    "    # Fetching the song names of the nearest neighbors\n",
    "    recommended_songs = data.iloc[nearest_neighbors]['song_name']\n",
    "    # Preparing the result excluding the random song itself\n",
    "    recommendations = recommended_songs[recommended_songs != input].tolist()\n",
    "    return recommendations\n",
    "\n",
    "\n"
   ]
  },
  {
   "cell_type": "code",
   "execution_count": 49,
   "metadata": {},
   "outputs": [
    {
     "name": "stdout",
     "output_type": "stream",
     "text": [
      "['Lights', 'The 300', 'You', 'Ye Kong', 'WELFARE (feat. Westside Gunn)']\n"
     ]
    },
    {
     "name": "stderr",
     "output_type": "stream",
     "text": [
      "/Users/michaelosmolovskiy/anaconda3/envs/Spotify/lib/python3.12/site-packages/sklearn/base.py:464: UserWarning: X does not have valid feature names, but NearestNeighbors was fitted with feature names\n",
      "  warnings.warn(\n"
     ]
    }
   ],
   "source": [
    "# Test recommendations\n",
    "input = 'XO Tour Llif3'\n",
    "recommendations = get_recommendations(input)\n",
    "print(recommendations)"
   ]
  }
 ],
 "metadata": {
  "kernelspec": {
   "display_name": "Spotify",
   "language": "python",
   "name": "python3"
  },
  "language_info": {
   "codemirror_mode": {
    "name": "ipython",
    "version": 3
   },
   "file_extension": ".py",
   "mimetype": "text/x-python",
   "name": "python",
   "nbconvert_exporter": "python",
   "pygments_lexer": "ipython3",
   "version": "3.12.0"
  }
 },
 "nbformat": 4,
 "nbformat_minor": 2
}
