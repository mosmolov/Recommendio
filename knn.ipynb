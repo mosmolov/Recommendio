{
 "cells": [
  {
   "cell_type": "code",
   "execution_count": 27,
   "metadata": {},
   "outputs": [],
   "source": [
    "from sklearn.model_selection import train_test_split\n",
    "from sklearn.preprocessing import StandardScaler\n",
    "from sklearn.metrics import classification_report, accuracy_score\n",
    "from sklearn.neighbors import NearestNeighbors\n",
    "import pandas as pd"
   ]
  },
  {
   "cell_type": "code",
   "execution_count": 28,
   "metadata": {},
   "outputs": [
    {
     "name": "stderr",
     "output_type": "stream",
     "text": [
      "/var/folders/cc/c2h4hf8x1rq2d8qclpl8dwdw0000gn/T/ipykernel_50101/2411600261.py:1: DtypeWarning: Columns (19) have mixed types. Specify dtype option on import or set low_memory=False.\n",
      "  data = pd.read_csv('genres_v2.csv')\n"
     ]
    }
   ],
   "source": [
    "data = pd.read_csv('genres_v2.csv')"
   ]
  },
  {
   "cell_type": "code",
   "execution_count": 29,
   "metadata": {},
   "outputs": [],
   "source": [
    "# Preprocessing the data\n",
    "# Assuming 'genre' as the target variable for classification\n",
    "X = data.select_dtypes(include=['float64', 'int64']).dropna()  # Selecting numerical features\n",
    "y = data.loc[X.index, 'genre']  # Corresponding genres"
   ]
  },
  {
   "cell_type": "code",
   "execution_count": 30,
   "metadata": {},
   "outputs": [],
   "source": [
    "# Splitting the dataset into training and testing sets\n",
    "X_train, X_test, y_train, y_test = train_test_split(X, y, test_size=0.3, random_state=42)"
   ]
  },
  {
   "cell_type": "code",
   "execution_count": 31,
   "metadata": {},
   "outputs": [],
   "source": [
    "# Standardizing the features\n",
    "scaler = StandardScaler()\n",
    "X_train_scaled = scaler.fit_transform(X_train)\n",
    "X_test_scaled = scaler.transform(X_test)"
   ]
  },
  {
   "cell_type": "code",
   "execution_count": 38,
   "metadata": {},
   "outputs": [],
   "source": [
    "# give predictions for input based on the model\n",
    "def get_recommendations(input):\n",
    "    # Selecting a random song from the dataset that has complete feature data\n",
    "    random_song = data.dropna(subset=data.select_dtypes(include=['float64', 'int64']).columns).sample()\n",
    "\n",
    "    # Extracting the features of the random song\n",
    "    random_song_features = random_song.select_dtypes(include=['float64', 'int64'])\n",
    "    nn = NearestNeighbors(n_neighbors = 6) # get 6 nearest neighbors\n",
    "    nn.fit(X)\n",
    "    distances, indices = nn.kneighbors(random_song_features)\n",
    "    nearest_neighbors = indices[0]\n",
    "    # Fetching the song names of the nearest neighbors\n",
    "    recommended_songs = data.iloc[nearest_neighbors]['song_name']\n",
    "    # Preparing the result excluding the random song itself\n",
    "    recommendations = recommended_songs[recommended_songs != input].tolist()\n",
    "    return recommendations\n",
    "\n",
    "\n"
   ]
  },
  {
   "cell_type": "code",
   "execution_count": 39,
   "metadata": {},
   "outputs": [
    {
     "ename": "AttributeError",
     "evalue": "'str' object has no attribute 'select_dtypes'",
     "output_type": "error",
     "traceback": [
      "\u001b[0;31m---------------------------------------------------------------------------\u001b[0m",
      "\u001b[0;31mAttributeError\u001b[0m                            Traceback (most recent call last)",
      "\u001b[1;32m/Users/michaelosmolovskiy/CS4641-Spotify-Recommendation-System/knn.ipynb Cell 7\u001b[0m line \u001b[0;36m3\n\u001b[1;32m      <a href='vscode-notebook-cell:/Users/michaelosmolovskiy/CS4641-Spotify-Recommendation-System/knn.ipynb#X10sZmlsZQ%3D%3D?line=0'>1</a>\u001b[0m \u001b[39m# Test recommendations\u001b[39;00m\n\u001b[1;32m      <a href='vscode-notebook-cell:/Users/michaelosmolovskiy/CS4641-Spotify-Recommendation-System/knn.ipynb#X10sZmlsZQ%3D%3D?line=1'>2</a>\u001b[0m \u001b[39minput\u001b[39m \u001b[39m=\u001b[39m \u001b[39m'\u001b[39m\u001b[39mDior - Bonus\u001b[39m\u001b[39m'\u001b[39m\n\u001b[0;32m----> <a href='vscode-notebook-cell:/Users/michaelosmolovskiy/CS4641-Spotify-Recommendation-System/knn.ipynb#X10sZmlsZQ%3D%3D?line=2'>3</a>\u001b[0m recommendations \u001b[39m=\u001b[39m get_recommendations(\u001b[39minput\u001b[39;49m)\n\u001b[1;32m      <a href='vscode-notebook-cell:/Users/michaelosmolovskiy/CS4641-Spotify-Recommendation-System/knn.ipynb#X10sZmlsZQ%3D%3D?line=3'>4</a>\u001b[0m \u001b[39mprint\u001b[39m(recommendations)\n",
      "\u001b[1;32m/Users/michaelosmolovskiy/CS4641-Spotify-Recommendation-System/knn.ipynb Cell 7\u001b[0m line \u001b[0;36m3\n\u001b[1;32m      <a href='vscode-notebook-cell:/Users/michaelosmolovskiy/CS4641-Spotify-Recommendation-System/knn.ipynb#X10sZmlsZQ%3D%3D?line=1'>2</a>\u001b[0m \u001b[39mdef\u001b[39;00m \u001b[39mget_recommendations\u001b[39m(\u001b[39minput\u001b[39m):\n\u001b[0;32m----> <a href='vscode-notebook-cell:/Users/michaelosmolovskiy/CS4641-Spotify-Recommendation-System/knn.ipynb#X10sZmlsZQ%3D%3D?line=2'>3</a>\u001b[0m     input_features \u001b[39m=\u001b[39m \u001b[39minput\u001b[39;49m\u001b[39m.\u001b[39;49mselect_dtypes(include\u001b[39m=\u001b[39m[\u001b[39m'\u001b[39m\u001b[39mfloat64\u001b[39m\u001b[39m'\u001b[39m, \u001b[39m'\u001b[39m\u001b[39mint64\u001b[39m\u001b[39m'\u001b[39m])\n\u001b[1;32m      <a href='vscode-notebook-cell:/Users/michaelosmolovskiy/CS4641-Spotify-Recommendation-System/knn.ipynb#X10sZmlsZQ%3D%3D?line=3'>4</a>\u001b[0m     nn \u001b[39m=\u001b[39m NearestNeighbors(n_neighbors \u001b[39m=\u001b[39m \u001b[39m6\u001b[39m) \u001b[39m# get 6 nearest neighbors\u001b[39;00m\n\u001b[1;32m      <a href='vscode-notebook-cell:/Users/michaelosmolovskiy/CS4641-Spotify-Recommendation-System/knn.ipynb#X10sZmlsZQ%3D%3D?line=4'>5</a>\u001b[0m     nn\u001b[39m.\u001b[39mfit(X)\n",
      "\u001b[0;31mAttributeError\u001b[0m: 'str' object has no attribute 'select_dtypes'"
     ]
    }
   ],
   "source": [
    "# Test recommendations\n",
    "input = 'Dior - Bonus'\n",
    "recommendations = get_recommendations(input)\n",
    "print(recommendations)"
   ]
  }
 ],
 "metadata": {
  "kernelspec": {
   "display_name": "Spotify",
   "language": "python",
   "name": "python3"
  },
  "language_info": {
   "codemirror_mode": {
    "name": "ipython",
    "version": 3
   },
   "file_extension": ".py",
   "mimetype": "text/x-python",
   "name": "python",
   "nbconvert_exporter": "python",
   "pygments_lexer": "ipython3",
   "version": "3.12.0"
  }
 },
 "nbformat": 4,
 "nbformat_minor": 2
}
