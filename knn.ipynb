{
 "cells": [
  {
   "cell_type": "code",
   "execution_count": 71,
   "metadata": {},
   "outputs": [],
   "source": [
    "from sklearn.model_selection import train_test_split\n",
    "from sklearn.preprocessing import StandardScaler\n",
    "from sklearn.metrics import classification_report, accuracy_score\n",
    "from sklearn.neighbors import NearestNeighbors\n",
    "import pandas as pd\n",
    "from sklearn.metrics.pairwise import cosine_similarity\n",
    "import numpy as np"
   ]
  },
  {
   "cell_type": "code",
   "execution_count": 72,
   "metadata": {},
   "outputs": [
    {
     "name": "stderr",
     "output_type": "stream",
     "text": [
      "/var/folders/cc/c2h4hf8x1rq2d8qclpl8dwdw0000gn/T/ipykernel_50101/2411600261.py:1: DtypeWarning: Columns (19) have mixed types. Specify dtype option on import or set low_memory=False.\n",
      "  data = pd.read_csv('genres_v2.csv')\n"
     ]
    }
   ],
   "source": [
    "data = pd.read_csv('genres_v2.csv')"
   ]
  },
  {
   "cell_type": "code",
   "execution_count": 73,
   "metadata": {},
   "outputs": [],
   "source": [
    "# Preprocessing the data\n",
    "# Assuming 'genre' as the target variable for classification\n",
    "X = data.select_dtypes(include=['float64', 'int64']).dropna()  # Selecting numerical features\n",
    "y = data.loc[X.index, 'genre']  # Corresponding genres"
   ]
  },
  {
   "cell_type": "code",
   "execution_count": 74,
   "metadata": {},
   "outputs": [],
   "source": [
    "# Splitting the dataset into training and testing sets\n",
    "X_train, X_test, y_train, y_test = train_test_split(X, y, test_size=0.3, random_state=42)"
   ]
  },
  {
   "cell_type": "code",
   "execution_count": 75,
   "metadata": {},
   "outputs": [],
   "source": [
    "# Standardizing the features\n",
    "scaler = StandardScaler()\n",
    "X_train_scaled = scaler.fit_transform(X_train)\n",
    "X_test_scaled = scaler.transform(X_test)"
   ]
  },
  {
   "cell_type": "code",
   "execution_count": 76,
   "metadata": {},
   "outputs": [],
   "source": [
    "# give predictions for input based on the model\n",
    "def get_recommendations(input):\n",
    "    # Fetching the index of the song that matches the title\n",
    "    input_index = data[data['song_name'] == input].index[0]\n",
    "    \n",
    "    # Calculating the distance and getting the 6 nearest neighbors\n",
    "    input_features = X.iloc[input_index]\n",
    "    input_features = input_features.values.reshape(1, -1)\n",
    "    nn = NearestNeighbors(n_neighbors = 6) # get 6 nearest neighbors\n",
    "    nn.fit(X)\n",
    "    distances, indices = nn.kneighbors(input_features)\n",
    "    nearest_neighbors = indices[0]\n",
    "    # Fetching the song names of the nearest neighbors\n",
    "    recommended_songs = data.iloc[nearest_neighbors]['song_name']\n",
    "    # Preparing the result excluding the random song itself\n",
    "    recommendations = recommended_songs[recommended_songs != input].tolist()\n",
    "    return recommendations\n",
    "\n",
    "\n"
   ]
  },
  {
   "cell_type": "code",
   "execution_count": 77,
   "metadata": {},
   "outputs": [
    {
     "name": "stdout",
     "output_type": "stream",
     "text": [
      "Recommendations for XO Tour Llif3 :\n",
      "['Pyro (leak 2019)', \"Don't Bang My Line (feat. Night Lovell)\", 'Mud', 'Fractals', 'Atlantis']\n"
     ]
    },
    {
     "name": "stderr",
     "output_type": "stream",
     "text": [
      "/Users/michaelosmolovskiy/anaconda3/envs/Spotify/lib/python3.12/site-packages/sklearn/base.py:464: UserWarning: X does not have valid feature names, but NearestNeighbors was fitted with feature names\n",
      "  warnings.warn(\n"
     ]
    }
   ],
   "source": [
    "# Test recommendations\n",
    "input = 'XO Tour Llif3'\n",
    "recommendations = get_recommendations(input)\n",
    "print('Recommendations for', input, ':')\n",
    "print(recommendations)"
   ]
  },
  {
   "cell_type": "code",
   "execution_count": null,
   "metadata": {},
   "outputs": [],
   "source": []
  },
  {
   "cell_type": "code",
   "execution_count": 78,
   "metadata": {},
   "outputs": [
    {
     "ename": "SyntaxError",
     "evalue": "incomplete input (592906559.py, line 5)",
     "output_type": "error",
     "traceback": [
      "\u001b[0;36m  Cell \u001b[0;32mIn[78], line 5\u001b[0;36m\u001b[0m\n\u001b[0;31m    \u001b[0m\n\u001b[0m    ^\u001b[0m\n\u001b[0;31mSyntaxError\u001b[0m\u001b[0;31m:\u001b[0m incomplete input\n"
     ]
    }
   ],
   "source": [
    "# Calculate intra-list similarity for recommendations\n",
    "# calculate intra-list similarity for recommendations of a song\n",
    "def calculate_intra_list_similarity(recommendations):\n",
    "    # Fetching the indices of the recommended songs\n",
    "    indices = []\n",
    "    for song in recommendations:\n",
    "        indices.append(data[data['song_name'] == song].index[0])\n",
    "    # Calculating the intra-list similarity\n",
    "    similarity = 0\n",
    "    for i in range(len(indices)):\n",
    "        for j in range(i+1, len(indices)):\n",
    "            similarity += cosine_similarity(X.iloc[indices[i]].values.reshape(1, -1), X.iloc[indices[j]].values.reshape(1, -1))[0][0]\n",
    "    return similarity / (len(indices) * (len(indices) - 1) / 2)\n",
    "       "
   ]
  },
  {
   "cell_type": "code",
   "execution_count": null,
   "metadata": {},
   "outputs": [
    {
     "ename": "NameError",
     "evalue": "name 'cosine_similarity' is not defined",
     "output_type": "error",
     "traceback": [
      "\u001b[0;31m---------------------------------------------------------------------------\u001b[0m",
      "\u001b[0;31mNameError\u001b[0m                                 Traceback (most recent call last)",
      "\u001b[1;32m/Users/michaelosmolovskiy/CS4641-Spotify-Recommendation-System/knn.ipynb Cell 10\u001b[0m line \u001b[0;36m2\n\u001b[1;32m      <a href='vscode-notebook-cell:/Users/michaelosmolovskiy/CS4641-Spotify-Recommendation-System/knn.ipynb#X12sZmlsZQ%3D%3D?line=0'>1</a>\u001b[0m \u001b[39m# calculate intra-list similarity for song recommendations\u001b[39;00m\n\u001b[0;32m----> <a href='vscode-notebook-cell:/Users/michaelosmolovskiy/CS4641-Spotify-Recommendation-System/knn.ipynb#X12sZmlsZQ%3D%3D?line=1'>2</a>\u001b[0m intraListSimilarity \u001b[39m=\u001b[39m calculate_intra_list_similarity(recommendations)\n\u001b[1;32m      <a href='vscode-notebook-cell:/Users/michaelosmolovskiy/CS4641-Spotify-Recommendation-System/knn.ipynb#X12sZmlsZQ%3D%3D?line=2'>3</a>\u001b[0m \u001b[39mprint\u001b[39m(\u001b[39m\"\u001b[39m\u001b[39mIntra-list similarity for song recommendations: \u001b[39m\u001b[39m\"\u001b[39m, intraListSimilarity)\n",
      "\u001b[1;32m/Users/michaelosmolovskiy/CS4641-Spotify-Recommendation-System/knn.ipynb Cell 10\u001b[0m line \u001b[0;36m1\n\u001b[1;32m     <a href='vscode-notebook-cell:/Users/michaelosmolovskiy/CS4641-Spotify-Recommendation-System/knn.ipynb#X12sZmlsZQ%3D%3D?line=9'>10</a>\u001b[0m \u001b[39mfor\u001b[39;00m i \u001b[39min\u001b[39;00m \u001b[39mrange\u001b[39m(\u001b[39mlen\u001b[39m(indices)):\n\u001b[1;32m     <a href='vscode-notebook-cell:/Users/michaelosmolovskiy/CS4641-Spotify-Recommendation-System/knn.ipynb#X12sZmlsZQ%3D%3D?line=10'>11</a>\u001b[0m     \u001b[39mfor\u001b[39;00m j \u001b[39min\u001b[39;00m \u001b[39mrange\u001b[39m(i\u001b[39m+\u001b[39m\u001b[39m1\u001b[39m, \u001b[39mlen\u001b[39m(indices)):\n\u001b[0;32m---> <a href='vscode-notebook-cell:/Users/michaelosmolovskiy/CS4641-Spotify-Recommendation-System/knn.ipynb#X12sZmlsZQ%3D%3D?line=11'>12</a>\u001b[0m         similarity \u001b[39m+\u001b[39m\u001b[39m=\u001b[39m cosine_similarity(X\u001b[39m.\u001b[39miloc[indices[i]]\u001b[39m.\u001b[39mvalues\u001b[39m.\u001b[39mreshape(\u001b[39m1\u001b[39m, \u001b[39m-\u001b[39m\u001b[39m1\u001b[39m), X\u001b[39m.\u001b[39miloc[indices[j]]\u001b[39m.\u001b[39mvalues\u001b[39m.\u001b[39mreshape(\u001b[39m1\u001b[39m, \u001b[39m-\u001b[39m\u001b[39m1\u001b[39m))[\u001b[39m0\u001b[39m][\u001b[39m0\u001b[39m]\n\u001b[1;32m     <a href='vscode-notebook-cell:/Users/michaelosmolovskiy/CS4641-Spotify-Recommendation-System/knn.ipynb#X12sZmlsZQ%3D%3D?line=12'>13</a>\u001b[0m \u001b[39mreturn\u001b[39;00m similarity \u001b[39m/\u001b[39m (\u001b[39mlen\u001b[39m(indices) \u001b[39m*\u001b[39m (\u001b[39mlen\u001b[39m(indices) \u001b[39m-\u001b[39m \u001b[39m1\u001b[39m) \u001b[39m/\u001b[39m \u001b[39m2\u001b[39m)\n",
      "\u001b[0;31mNameError\u001b[0m: name 'cosine_similarity' is not defined"
     ]
    }
   ],
   "source": [
    "# calculate intra-list similarity for song recommendations\n",
    "intraListSimilarity = calculate_intra_list_similarity(recommendations)\n",
    "print(\"Intra-list similarity for song recommendations: \", intraListSimilarity)\n"
   ]
  }
 ],
 "metadata": {
  "kernelspec": {
   "display_name": "Spotify",
   "language": "python",
   "name": "python3"
  },
  "language_info": {
   "codemirror_mode": {
    "name": "ipython",
    "version": 3
   },
   "file_extension": ".py",
   "mimetype": "text/x-python",
   "name": "python",
   "nbconvert_exporter": "python",
   "pygments_lexer": "ipython3",
   "version": "3.12.0"
  }
 },
 "nbformat": 4,
 "nbformat_minor": 2
}
