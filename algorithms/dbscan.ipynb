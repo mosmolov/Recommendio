{
 "cells": [
  {
   "cell_type": "code",
   "execution_count": 4,
   "metadata": {},
   "outputs": [
    {
     "name": "stderr",
     "output_type": "stream",
     "text": [
      "/var/folders/cc/c2h4hf8x1rq2d8qclpl8dwdw0000gn/T/ipykernel_29468/4044264167.py:8: DtypeWarning: Columns (19) have mixed types. Specify dtype option on import or set low_memory=False.\n",
      "  df = pd.read_csv('genres_v2.csv')\n"
     ]
    },
    {
     "data": {
      "text/plain": [
       "(0.8084067459580068, 255, 40585)"
      ]
     },
     "execution_count": 4,
     "metadata": {},
     "output_type": "execute_result"
    }
   ],
   "source": [
    "from sklearn.cluster import DBSCAN\n",
    "from sklearn.metrics import silhouette_score\n",
    "import pandas as pd\n",
    "from sklearn.preprocessing import StandardScaler\n",
    "from sklearn.impute import SimpleImputer\n",
    "import numpy as np\n",
    "# Load the data (replace 'your_data.csv' with the actual path to your dataset)\n",
    "df = pd.read_csv('genres_v2.csv')\n",
    "\n",
    "\n",
    "features_to_use = ['danceability', 'energy', 'key', 'loudness', 'mode', 'speechiness', \n",
    "                   'acousticness', 'instrumentalness', 'liveness', 'valence', 'duration_ms', 'time_signature']\n",
    "X = df[features_to_use]\n",
    "imputer = SimpleImputer(strategy='mean')\n",
    "X_imputed = imputer.fit_transform(X)\n",
    "\n",
    "# Normalizing the data\n",
    "scaler = StandardScaler()\n",
    "X_scaled = scaler.fit_transform(X_imputed)\n",
    "\n",
    "# Initialize DBSCAN with default parameters to start\n",
    "# The parameters eps and min_samples need to be chosen appropriately\n",
    "# For now, we use default values and then we might need to adjust them after evaluating the initial results\n",
    "dbscan = DBSCAN()\n",
    "\n",
    "# Fitting DBSCAN to the scaled data\n",
    "dbscan.fit(X_scaled)\n",
    "\n",
    "# Getting the cluster labels\n",
    "db_clusters = dbscan.labels_\n",
    "\n",
    "# Since DBSCAN labels noisy samples as -1, we filter them out for silhouette score calculation\n",
    "core_samples_mask = np.zeros_like(db_clusters, dtype=bool)\n",
    "core_samples_mask[dbscan.core_sample_indices_] = True\n",
    "labels_core = db_clusters[core_samples_mask]\n",
    "X_core = X_scaled[core_samples_mask]\n",
    "\n",
    "# Calculating Silhouette Score only for the core samples\n",
    "silhouette_avg_dbscan = silhouette_score(X_core, labels_core) if len(set(labels_core)) > 1 else \"Not applicable\"\n",
    "\n",
    "# Number of clusters in labels, ignoring noise if present\n",
    "n_clusters_ = len(set(labels_core)) - (1 if -1 in labels_core else 0)\n",
    "n_noise_ = list(db_clusters).count(-1)\n",
    "\n",
    "silhouette_avg_dbscan, n_clusters_, n_noise_\n"
   ]
  },
  {
   "cell_type": "code",
   "execution_count": null,
   "metadata": {},
   "outputs": [],
   "source": [
    "# create visualizations for dbscan"
   ]
  }
 ],
 "metadata": {
  "kernelspec": {
   "display_name": "Spotify",
   "language": "python",
   "name": "python3"
  },
  "language_info": {
   "codemirror_mode": {
    "name": "ipython",
    "version": 3
   },
   "file_extension": ".py",
   "mimetype": "text/x-python",
   "name": "python",
   "nbconvert_exporter": "python",
   "pygments_lexer": "ipython3",
   "version": "3.12.0"
  }
 },
 "nbformat": 4,
 "nbformat_minor": 2
}
